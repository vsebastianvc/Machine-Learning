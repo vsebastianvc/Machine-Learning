{
 "cells": [
  {
   "cell_type": "code",
   "execution_count": 1,
   "metadata": {},
   "outputs": [
    {
     "name": "stderr",
     "output_type": "stream",
     "text": [
      "Using TensorFlow backend.\n"
     ]
    }
   ],
   "source": [
    "import numpy as np # linear algebra\n",
    "import pandas as pd # data processing, CSV file I/O (e.g. pd.read_csv)\n",
    "\n",
    "from sklearn.preprocessing import StandardScaler,LabelEncoder\n",
    "from sklearn.ensemble import RandomForestClassifier\n",
    "from sklearn.metrics import accuracy_score\n",
    "from sklearn.neighbors import KNeighborsClassifier\n",
    "\n",
    "from keras.models import Sequential\n",
    "from keras.layers import Dense, Dropout, Activation\n",
    "from keras.optimizers import SGD,Adam\n",
    "\n",
    "train = pd.read_csv(\"https://s3.amazonaws.com/hackerday.datascience/112/train.csv\")\n",
    "test = pd.read_csv(\"https://s3.amazonaws.com/hackerday.datascience/112/test.csv\")"
   ]
  },
  {
   "cell_type": "code",
   "execution_count": 2,
   "metadata": {},
   "outputs": [
    {
     "name": "stderr",
     "output_type": "stream",
     "text": [
      "C:\\Users\\Sebastian\\Anaconda3\\lib\\site-packages\\ipykernel_launcher.py:2: FutureWarning: Method .as_matrix will be removed in a future version. Use .values instead.\n",
      "  \n",
      "C:\\Users\\Sebastian\\Anaconda3\\lib\\site-packages\\ipykernel_launcher.py:3: FutureWarning: Method .as_matrix will be removed in a future version. Use .values instead.\n",
      "  This is separate from the ipykernel package so we can avoid doing imports until\n",
      "C:\\Users\\Sebastian\\Anaconda3\\lib\\site-packages\\ipykernel_launcher.py:5: FutureWarning: Method .as_matrix will be removed in a future version. Use .values instead.\n",
      "  \"\"\"\n",
      "C:\\Users\\Sebastian\\Anaconda3\\lib\\site-packages\\ipykernel_launcher.py:6: FutureWarning: Method .as_matrix will be removed in a future version. Use .values instead.\n",
      "  \n"
     ]
    }
   ],
   "source": [
    "#Feature matrix\n",
    "train_data = train.iloc[:,:561].as_matrix()\n",
    "test_data = test.iloc[:,:561].as_matrix()\n",
    "\n",
    "train_labels = train.iloc[:,562:].as_matrix()\n",
    "test_labels = test.iloc[:,562:].as_matrix()\n",
    "\n",
    "train_labelss=np.zeros((len(train_labels),6))\n",
    "test_labelss=np.zeros((len(test_labels),6))"
   ]
  },
  {
   "cell_type": "code",
   "execution_count": 3,
   "metadata": {},
   "outputs": [],
   "source": [
    "for k in range (0,len(train_labels)):\n",
    "    if train_labels[k] =='STANDING':\n",
    "        train_labelss[k][0]=1\n",
    "    elif train_labels[k] =='WALKING':\n",
    "        train_labelss[k][1]=1\n",
    "    elif train_labels[k] =='WALKING_UPSTAIRS':\n",
    "        train_labelss[k][2]=1\n",
    "    elif train_labels[k] =='WALKING_DOWNSTAIRS':\n",
    "        train_labelss[k][3]=1\n",
    "    elif train_labels[k] =='SITTING':\n",
    "        train_labelss[k][4]=1\n",
    "    else:\n",
    "        train_labelss[k][5]=1"
   ]
  },
  {
   "cell_type": "code",
   "execution_count": 4,
   "metadata": {},
   "outputs": [],
   "source": [
    "for k in range (0,len(test_labels)):\n",
    "    if test_labels[k] =='STANDING':\n",
    "        test_labelss[k][0]=1\n",
    "    elif test_labels[k] =='WALKING':\n",
    "        test_labelss[k][1]=1\n",
    "    elif test_labels[k] =='WALKING_UPSTAIRS':\n",
    "        test_labelss[k][2]=1\n",
    "    elif test_labels[k] =='WALKING_DOWNSTAIRS':\n",
    "        test_labelss[k][3]=1\n",
    "    elif test_labels[k] =='SITTING':\n",
    "        test_labelss[k][4]=1\n",
    "    else:\n",
    "        test_labelss[k][5]=1"
   ]
  },
  {
   "cell_type": "code",
   "execution_count": 5,
   "metadata": {},
   "outputs": [
    {
     "name": "stderr",
     "output_type": "stream",
     "text": [
      "C:\\Users\\Sebastian\\Anaconda3\\lib\\site-packages\\ipykernel_launcher.py:10: UserWarning: The `nb_epoch` argument in `fit` has been renamed `epochs`.\n",
      "  # Remove the CWD from sys.path while we load stuff.\n"
     ]
    },
    {
     "name": "stdout",
     "output_type": "stream",
     "text": [
      "Epoch 1/30\n",
      "999/999 [==============================] - 4s 4ms/step - loss: 1.8149 - acc: 0.2202\n",
      "Epoch 2/30\n",
      "999/999 [==============================] - 0s 52us/step - loss: 1.5383 - acc: 0.3544\n",
      "Epoch 3/30\n",
      "999/999 [==============================] - 0s 51us/step - loss: 1.4049 - acc: 0.3874\n",
      "Epoch 4/30\n",
      "999/999 [==============================] - 0s 51us/step - loss: 1.2830 - acc: 0.4264\n",
      "Epoch 5/30\n",
      "999/999 [==============================] - 0s 50us/step - loss: 1.2170 - acc: 0.4454\n",
      "Epoch 6/30\n",
      "999/999 [==============================] - 0s 50us/step - loss: 1.1444 - acc: 0.4655\n",
      "Epoch 7/30\n",
      "999/999 [==============================] - 0s 49us/step - loss: 1.0814 - acc: 0.5065\n",
      "Epoch 8/30\n",
      "999/999 [==============================] - 0s 50us/step - loss: 1.0305 - acc: 0.5485\n",
      "Epoch 9/30\n",
      "999/999 [==============================] - 0s 51us/step - loss: 0.9521 - acc: 0.5495\n",
      "Epoch 10/30\n",
      "999/999 [==============================] - 0s 51us/step - loss: 0.9223 - acc: 0.5666\n",
      "Epoch 11/30\n",
      "999/999 [==============================] - 0s 51us/step - loss: 0.8464 - acc: 0.6256\n",
      "Epoch 12/30\n",
      "999/999 [==============================] - 0s 50us/step - loss: 0.8040 - acc: 0.6567\n",
      "Epoch 13/30\n",
      "999/999 [==============================] - 0s 50us/step - loss: 0.7427 - acc: 0.6677\n",
      "Epoch 14/30\n",
      "999/999 [==============================] - 0s 51us/step - loss: 0.7183 - acc: 0.7017\n",
      "Epoch 15/30\n",
      "999/999 [==============================] - 0s 50us/step - loss: 0.7119 - acc: 0.6987\n",
      "Epoch 16/30\n",
      "999/999 [==============================] - 0s 52us/step - loss: 0.6037 - acc: 0.7447\n",
      "Epoch 17/30\n",
      "999/999 [==============================] - 0s 51us/step - loss: 0.6184 - acc: 0.7598\n",
      "Epoch 18/30\n",
      "999/999 [==============================] - 0s 53us/step - loss: 0.5697 - acc: 0.7477\n",
      "Epoch 19/30\n",
      "999/999 [==============================] - 0s 52us/step - loss: 0.5412 - acc: 0.7798\n",
      "Epoch 20/30\n",
      "999/999 [==============================] - 0s 53us/step - loss: 0.5401 - acc: 0.7628\n",
      "Epoch 21/30\n",
      "999/999 [==============================] - 0s 50us/step - loss: 0.4919 - acc: 0.7928\n",
      "Epoch 22/30\n",
      "999/999 [==============================] - 0s 50us/step - loss: 0.4639 - acc: 0.8068\n",
      "Epoch 23/30\n",
      "999/999 [==============================] - 0s 52us/step - loss: 0.4472 - acc: 0.8238\n",
      "Epoch 24/30\n",
      "999/999 [==============================] - 0s 51us/step - loss: 0.4410 - acc: 0.8158\n",
      "Epoch 25/30\n",
      "999/999 [==============================] - 0s 49us/step - loss: 0.4060 - acc: 0.8408\n",
      "Epoch 26/30\n",
      "999/999 [==============================] - 0s 51us/step - loss: 0.4252 - acc: 0.8208\n",
      "Epoch 27/30\n",
      "999/999 [==============================] - 0s 51us/step - loss: 0.4046 - acc: 0.8368\n",
      "Epoch 28/30\n",
      "999/999 [==============================] - 0s 53us/step - loss: 0.3967 - acc: 0.8398\n",
      "Epoch 29/30\n",
      "999/999 [==============================] - 0s 59us/step - loss: 0.3664 - acc: 0.8589\n",
      "Epoch 30/30\n",
      "999/999 [==============================] - 0s 57us/step - loss: 0.3518 - acc: 0.8649\n",
      "999/999 [==============================] - 0s 325us/step\n",
      "[0.32274461216158096, 0.8538538513479529]\n"
     ]
    }
   ],
   "source": [
    "model = Sequential()\n",
    "model.add(Dense(64, activation='relu', input_dim=561))\n",
    "model.add(Dropout(0.5))\n",
    "model.add(Dense(64, activation='relu'))\n",
    "model.add(Dropout(0.5))\n",
    "model.add(Dense(6, activation='softmax'))\n",
    "\n",
    "sgd = SGD(lr=0.01, decay=1e-6, momentum=0.9, nesterov=True)\n",
    "model.compile(loss='categorical_crossentropy',optimizer=sgd,metrics=['accuracy'])\n",
    "model.fit(train_data, train_labelss,nb_epoch=30,batch_size=128)\n",
    "score = model.evaluate(test_data, test_labelss, batch_size=128)\n",
    "print(score)"
   ]
  },
  {
   "cell_type": "code",
   "execution_count": 6,
   "metadata": {},
   "outputs": [
    {
     "name": "stderr",
     "output_type": "stream",
     "text": [
      "C:\\Users\\Sebastian\\Anaconda3\\lib\\site-packages\\ipykernel_launcher.py:2: UserWarning: The `nb_epoch` argument in `fit` has been renamed `epochs`.\n",
      "  \n"
     ]
    },
    {
     "name": "stdout",
     "output_type": "stream",
     "text": [
      "Epoch 1/30\n",
      "999/999 [==============================] - 1s 1ms/step - loss: 0.3663 - acc: 0.8529\n",
      "Epoch 2/30\n",
      "999/999 [==============================] - 0s 56us/step - loss: 0.3610 - acc: 0.8418\n",
      "Epoch 3/30\n",
      "999/999 [==============================] - 0s 56us/step - loss: 0.3380 - acc: 0.8689\n",
      "Epoch 4/30\n",
      "999/999 [==============================] - 0s 57us/step - loss: 0.3111 - acc: 0.8749\n",
      "Epoch 5/30\n",
      "999/999 [==============================] - 0s 55us/step - loss: 0.3109 - acc: 0.8759\n",
      "Epoch 6/30\n",
      "999/999 [==============================] - 0s 55us/step - loss: 0.2988 - acc: 0.8809\n",
      "Epoch 7/30\n",
      "999/999 [==============================] - 0s 58us/step - loss: 0.2847 - acc: 0.8879\n",
      "Epoch 8/30\n",
      "999/999 [==============================] - 0s 58us/step - loss: 0.2684 - acc: 0.8859\n",
      "Epoch 9/30\n",
      "999/999 [==============================] - 0s 59us/step - loss: 0.2709 - acc: 0.8969\n",
      "Epoch 10/30\n",
      "999/999 [==============================] - 0s 57us/step - loss: 0.2535 - acc: 0.8909\n",
      "Epoch 11/30\n",
      "999/999 [==============================] - 0s 57us/step - loss: 0.2292 - acc: 0.9169\n",
      "Epoch 12/30\n",
      "999/999 [==============================] - 0s 57us/step - loss: 0.2402 - acc: 0.9079\n",
      "Epoch 13/30\n",
      "999/999 [==============================] - 0s 58us/step - loss: 0.2295 - acc: 0.9109\n",
      "Epoch 14/30\n",
      "999/999 [==============================] - 0s 59us/step - loss: 0.2221 - acc: 0.9159\n",
      "Epoch 15/30\n",
      "999/999 [==============================] - 0s 62us/step - loss: 0.2235 - acc: 0.9169\n",
      "Epoch 16/30\n",
      "999/999 [==============================] - 0s 61us/step - loss: 0.2317 - acc: 0.9099\n",
      "Epoch 17/30\n",
      "999/999 [==============================] - 0s 64us/step - loss: 0.2238 - acc: 0.9079\n",
      "Epoch 18/30\n",
      "999/999 [==============================] - 0s 61us/step - loss: 0.1759 - acc: 0.9359\n",
      "Epoch 19/30\n",
      "999/999 [==============================] - 0s 60us/step - loss: 0.1838 - acc: 0.9349\n",
      "Epoch 20/30\n",
      "999/999 [==============================] - 0s 59us/step - loss: 0.1850 - acc: 0.9359\n",
      "Epoch 21/30\n",
      "999/999 [==============================] - 0s 61us/step - loss: 0.1563 - acc: 0.9540\n",
      "Epoch 22/30\n",
      "999/999 [==============================] - 0s 60us/step - loss: 0.1779 - acc: 0.9409\n",
      "Epoch 23/30\n",
      "999/999 [==============================] - 0s 55us/step - loss: 0.1501 - acc: 0.9520\n",
      "Epoch 24/30\n",
      "999/999 [==============================] - 0s 65us/step - loss: 0.1594 - acc: 0.9499\n",
      "Epoch 25/30\n",
      "999/999 [==============================] - 0s 65us/step - loss: 0.1572 - acc: 0.9469\n",
      "Epoch 26/30\n",
      "999/999 [==============================] - 0s 62us/step - loss: 0.1628 - acc: 0.9439\n",
      "Epoch 27/30\n",
      "999/999 [==============================] - 0s 64us/step - loss: 0.1431 - acc: 0.9449\n",
      "Epoch 28/30\n",
      "999/999 [==============================] - 0s 62us/step - loss: 0.1524 - acc: 0.9439\n",
      "Epoch 29/30\n",
      "999/999 [==============================] - 0s 60us/step - loss: 0.1457 - acc: 0.9459\n",
      "Epoch 30/30\n",
      "999/999 [==============================] - 0s 60us/step - loss: 0.1387 - acc: 0.9530\n",
      "999/999 [==============================] - 0s 353us/step\n",
      "[0.3306947788288882, 0.8648648671321086]\n"
     ]
    }
   ],
   "source": [
    "model.compile(loss='categorical_crossentropy',optimizer='adam',metrics=['accuracy'])\n",
    "model.fit(train_data, train_labelss,nb_epoch=30,batch_size=128)\n",
    "score = model.evaluate(test_data, test_labelss, batch_size=128)\n",
    "print(score)"
   ]
  },
  {
   "cell_type": "code",
   "execution_count": null,
   "metadata": {},
   "outputs": [],
   "source": []
  }
 ],
 "metadata": {
  "kernelspec": {
   "display_name": "Python 3",
   "language": "python",
   "name": "python3"
  },
  "language_info": {
   "codemirror_mode": {
    "name": "ipython",
    "version": 3
   },
   "file_extension": ".py",
   "mimetype": "text/x-python",
   "name": "python",
   "nbconvert_exporter": "python",
   "pygments_lexer": "ipython3",
   "version": "3.7.0"
  }
 },
 "nbformat": 4,
 "nbformat_minor": 2
}
