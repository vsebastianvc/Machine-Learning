{
 "cells": [
  {
   "cell_type": "code",
   "execution_count": 5,
   "metadata": {},
   "outputs": [
    {
     "name": "stdout",
     "output_type": "stream",
     "text": [
      "Best parameter set found:\n",
      "{'C': 100, 'kernel': 'linear'}\n",
      "Detailed grid scores:\n",
      "0.913 (+/-0.095) for {'C': 100, 'kernel': 'linear'}\n",
      "\n",
      "0.908 (+/-0.105) for {'C': 100, 'kernel': 'rbf'}\n",
      "\n",
      "0.901 (+/-0.104) for {'C': 100, 'kernel': 'poly'}\n",
      "\n",
      "0.907 (+/-0.112) for {'C': 100, 'kernel': 'sigmoid'}\n",
      "\n",
      "0.913 (+/-0.095) for {'C': 50, 'kernel': 'linear'}\n",
      "\n",
      "0.906 (+/-0.098) for {'C': 50, 'kernel': 'rbf'}\n",
      "\n",
      "0.894 (+/-0.085) for {'C': 50, 'kernel': 'poly'}\n",
      "\n",
      "0.894 (+/-0.132) for {'C': 50, 'kernel': 'sigmoid'}\n",
      "\n",
      "0.913 (+/-0.095) for {'C': 20, 'kernel': 'linear'}\n",
      "\n",
      "0.903 (+/-0.102) for {'C': 20, 'kernel': 'rbf'}\n",
      "\n",
      "0.874 (+/-0.100) for {'C': 20, 'kernel': 'poly'}\n",
      "\n",
      "0.887 (+/-0.112) for {'C': 20, 'kernel': 'sigmoid'}\n",
      "\n",
      "0.913 (+/-0.095) for {'C': 1, 'kernel': 'linear'}\n",
      "\n",
      "0.849 (+/-0.085) for {'C': 1, 'kernel': 'rbf'}\n",
      "\n",
      "0.636 (+/-0.048) for {'C': 1, 'kernel': 'poly'}\n",
      "\n",
      "0.759 (+/-0.058) for {'C': 1, 'kernel': 'sigmoid'}\n",
      "\n",
      "0.899 (+/-0.118) for {'C': 0.1, 'kernel': 'linear'}\n",
      "\n",
      "0.401 (+/-0.036) for {'C': 0.1, 'kernel': 'rbf'}\n",
      "\n",
      "0.388 (+/-0.001) for {'C': 0.1, 'kernel': 'poly'}\n",
      "\n",
      "0.388 (+/-0.001) for {'C': 0.1, 'kernel': 'sigmoid'}\n",
      "\n",
      "Accuracy score: 0.8738738738738738\n"
     ]
    }
   ],
   "source": [
    "import numpy as np # linear algebra\n",
    "import pandas as pd # data processing, CSV file I/O (e.g. pd.read_csv)\n",
    "from sklearn.svm import SVC\n",
    "from sklearn.model_selection import GridSearchCV\n",
    "from sklearn.metrics import accuracy_score\n",
    "train_df = pd.read_csv(\"https://s3.amazonaws.com/hackerday.datascience/112/train.csv\")\n",
    "test_df = pd.read_csv(\"https://s3.amazonaws.com/hackerday.datascience/112/test.csv\")\n",
    "train_df.columns\n",
    "\n",
    "X, y = train_df.iloc[:, 0:len(train_df.columns) - 1], train_df.iloc[:, -1]\n",
    "X_test, y_test = test_df.iloc[:, 0:len(test_df.columns) -1], test_df.iloc[:, -1]\n",
    "\n",
    "parameters = {\n",
    "    'kernel': ['linear', 'rbf', 'poly','sigmoid'],\n",
    "    'C': [100, 50, 20, 1, 0.1]\n",
    "}\n",
    "\n",
    "selector = GridSearchCV(SVC(), parameters, scoring='accuracy') # we only care about accuracy here\n",
    "selector.fit(X, y)\n",
    "\n",
    "print('Best parameter set found:')\n",
    "print(selector.best_params_)\n",
    "print('Detailed grid scores:')\n",
    "means = selector.cv_results_['mean_test_score']\n",
    "stds = selector.cv_results_['std_test_score']\n",
    "for mean, std, params in zip(means, stds, selector.cv_results_['params']):\n",
    "    print('%0.3f (+/-%0.03f) for %r' % (mean, std * 2, params))\n",
    "    print()\n",
    "clf = SVC(kernel='linear', C=100).fit(X, y)\n",
    "y_pred = clf.predict(X_test)\n",
    "print('Accuracy score:', accuracy_score(y_test, y_pred))"
   ]
  }
 ],
 "metadata": {
  "kernelspec": {
   "display_name": "Python 3",
   "language": "python",
   "name": "python3"
  },
  "language_info": {
   "codemirror_mode": {
    "name": "ipython",
    "version": 3
   },
   "file_extension": ".py",
   "mimetype": "text/x-python",
   "name": "python",
   "nbconvert_exporter": "python",
   "pygments_lexer": "ipython3",
   "version": "3.7.0"
  }
 },
 "nbformat": 4,
 "nbformat_minor": 2
}
