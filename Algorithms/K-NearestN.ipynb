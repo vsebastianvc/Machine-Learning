{
 "cells": [
  {
   "cell_type": "code",
   "execution_count": 1,
   "metadata": {},
   "outputs": [
    {
     "name": "stderr",
     "output_type": "stream",
     "text": [
      "Using TensorFlow backend.\n"
     ]
    }
   ],
   "source": [
    "import numpy as np # linear algebra\n",
    "import pandas as pd # data processing, CSV file I/O (e.g. pd.read_csv)\n",
    "\n",
    "from sklearn.preprocessing import StandardScaler,LabelEncoder\n",
    "from sklearn.ensemble import RandomForestClassifier\n",
    "from sklearn.metrics import accuracy_score\n",
    "from sklearn.neighbors import KNeighborsClassifier\n",
    "\n",
    "from keras.models import Sequential\n",
    "from keras.layers import Dense, Dropout, Activation\n",
    "from keras.optimizers import SGD,Adam"
   ]
  },
  {
   "cell_type": "code",
   "execution_count": 2,
   "metadata": {},
   "outputs": [
    {
     "name": "stderr",
     "output_type": "stream",
     "text": [
      "C:\\Users\\Sebastian\\Anaconda3\\lib\\site-packages\\ipykernel_launcher.py:5: FutureWarning: Method .as_matrix will be removed in a future version. Use .values instead.\n",
      "  \"\"\"\n",
      "C:\\Users\\Sebastian\\Anaconda3\\lib\\site-packages\\ipykernel_launcher.py:6: FutureWarning: Method .as_matrix will be removed in a future version. Use .values instead.\n",
      "  \n",
      "C:\\Users\\Sebastian\\Anaconda3\\lib\\site-packages\\ipykernel_launcher.py:8: FutureWarning: Method .as_matrix will be removed in a future version. Use .values instead.\n",
      "  \n",
      "C:\\Users\\Sebastian\\Anaconda3\\lib\\site-packages\\ipykernel_launcher.py:9: FutureWarning: Method .as_matrix will be removed in a future version. Use .values instead.\n",
      "  if __name__ == '__main__':\n"
     ]
    }
   ],
   "source": [
    "train = pd.read_csv(\"https://s3.amazonaws.com/hackerday.datascience/112/train.csv\")\n",
    "test = pd.read_csv(\"https://s3.amazonaws.com/hackerday.datascience/112/test.csv\")\n",
    "\n",
    "#Feature matrix\n",
    "train_data = train.iloc[:,:561].as_matrix()\n",
    "test_data = test.iloc[:,:561].as_matrix()\n",
    "\n",
    "train_labels = train.iloc[:,562:].as_matrix()\n",
    "test_labels = test.iloc[:,562:].as_matrix()\n",
    "\n",
    "train_labelss=np.zeros((len(train_labels),6))\n",
    "test_labelss=np.zeros((len(test_labels),6))"
   ]
  },
  {
   "cell_type": "code",
   "execution_count": 3,
   "metadata": {},
   "outputs": [],
   "source": [
    "for k in range (0,len(train_labels)):\n",
    "    if train_labels[k] =='STANDING':\n",
    "        train_labelss[k][0]=1\n",
    "    elif train_labels[k] =='WALKING':\n",
    "        train_labelss[k][1]=1\n",
    "    elif train_labels[k] =='WALKING_UPSTAIRS':\n",
    "        train_labelss[k][2]=1\n",
    "    elif train_labels[k] =='WALKING_DOWNSTAIRS':\n",
    "        train_labelss[k][3]=1\n",
    "    elif train_labels[k] =='SITTING':\n",
    "        train_labelss[k][4]=1\n",
    "    else:\n",
    "        train_labelss[k][5]=1"
   ]
  },
  {
   "cell_type": "code",
   "execution_count": 4,
   "metadata": {},
   "outputs": [],
   "source": [
    "for k in range (0,len(test_labels)):\n",
    "    if test_labels[k] =='STANDING':\n",
    "        test_labelss[k][0]=1\n",
    "    elif test_labels[k] =='WALKING':\n",
    "        test_labelss[k][1]=1\n",
    "    elif test_labels[k] =='WALKING_UPSTAIRS':\n",
    "        test_labelss[k][2]=1\n",
    "    elif test_labels[k] =='WALKING_DOWNSTAIRS':\n",
    "        test_labelss[k][3]=1\n",
    "    elif test_labels[k] =='SITTING':\n",
    "        test_labelss[k][4]=1\n",
    "    else:\n",
    "        test_labelss[k][5]=1"
   ]
  },
  {
   "cell_type": "code",
   "execution_count": 5,
   "metadata": {},
   "outputs": [
    {
     "name": "stderr",
     "output_type": "stream",
     "text": [
      "C:\\Users\\Sebastian\\Anaconda3\\lib\\site-packages\\ipykernel_launcher.py:10: UserWarning: The `nb_epoch` argument in `fit` has been renamed `epochs`.\n",
      "  # Remove the CWD from sys.path while we load stuff.\n"
     ]
    },
    {
     "name": "stdout",
     "output_type": "stream",
     "text": [
      "Epoch 1/30\n",
      "999/999 [==============================] - 4s 4ms/step - loss: 1.9115 - acc: 0.2202\n",
      "Epoch 2/30\n",
      "999/999 [==============================] - 0s 52us/step - loss: 1.5993 - acc: 0.3293\n",
      "Epoch 3/30\n",
      "999/999 [==============================] - 0s 51us/step - loss: 1.4288 - acc: 0.3964\n",
      "Epoch 4/30\n",
      "999/999 [==============================] - 0s 51us/step - loss: 1.2895 - acc: 0.4464\n",
      "Epoch 5/30\n",
      "999/999 [==============================] - 0s 52us/step - loss: 1.1695 - acc: 0.4965\n",
      "Epoch 6/30\n",
      "999/999 [==============================] - 0s 52us/step - loss: 1.0709 - acc: 0.5375\n",
      "Epoch 7/30\n",
      "999/999 [==============================] - 0s 53us/step - loss: 0.9728 - acc: 0.5656\n",
      "Epoch 8/30\n",
      "999/999 [==============================] - 0s 52us/step - loss: 0.8998 - acc: 0.6026\n",
      "Epoch 9/30\n",
      "999/999 [==============================] - 0s 51us/step - loss: 0.8123 - acc: 0.6677\n",
      "Epoch 10/30\n",
      "999/999 [==============================] - 0s 51us/step - loss: 0.7446 - acc: 0.6857\n",
      "Epoch 11/30\n",
      "999/999 [==============================] - 0s 51us/step - loss: 0.7161 - acc: 0.6987\n",
      "Epoch 12/30\n",
      "999/999 [==============================] - 0s 50us/step - loss: 0.6484 - acc: 0.7317\n",
      "Epoch 13/30\n",
      "999/999 [==============================] - 0s 52us/step - loss: 0.5841 - acc: 0.7748\n",
      "Epoch 14/30\n",
      "999/999 [==============================] - 0s 49us/step - loss: 0.5741 - acc: 0.7497\n",
      "Epoch 15/30\n",
      "999/999 [==============================] - 0s 51us/step - loss: 0.5338 - acc: 0.7868\n",
      "Epoch 16/30\n",
      "999/999 [==============================] - 0s 53us/step - loss: 0.5151 - acc: 0.7858\n",
      "Epoch 17/30\n",
      "999/999 [==============================] - 0s 55us/step - loss: 0.5294 - acc: 0.7628\n",
      "Epoch 18/30\n",
      "999/999 [==============================] - 0s 53us/step - loss: 0.4953 - acc: 0.7818\n",
      "Epoch 19/30\n",
      "999/999 [==============================] - 0s 54us/step - loss: 0.4749 - acc: 0.7948\n",
      "Epoch 20/30\n",
      "999/999 [==============================] - 0s 55us/step - loss: 0.4477 - acc: 0.8008\n",
      "Epoch 21/30\n",
      "999/999 [==============================] - 0s 55us/step - loss: 0.4565 - acc: 0.7878\n",
      "Epoch 22/30\n",
      "999/999 [==============================] - 0s 54us/step - loss: 0.4098 - acc: 0.8298\n",
      "Epoch 23/30\n",
      "999/999 [==============================] - 0s 53us/step - loss: 0.3719 - acc: 0.8388\n",
      "Epoch 24/30\n",
      "999/999 [==============================] - 0s 52us/step - loss: 0.3798 - acc: 0.8458\n",
      "Epoch 25/30\n",
      "999/999 [==============================] - 0s 51us/step - loss: 0.3643 - acc: 0.8468\n",
      "Epoch 26/30\n",
      "999/999 [==============================] - 0s 53us/step - loss: 0.3573 - acc: 0.8438\n",
      "Epoch 27/30\n",
      "999/999 [==============================] - 0s 54us/step - loss: 0.3698 - acc: 0.8539\n",
      "Epoch 28/30\n",
      "999/999 [==============================] - 0s 56us/step - loss: 0.3570 - acc: 0.8328\n",
      "Epoch 29/30\n",
      "999/999 [==============================] - 0s 55us/step - loss: 0.3379 - acc: 0.8549\n",
      "Epoch 30/30\n",
      "999/999 [==============================] - 0s 57us/step - loss: 0.3211 - acc: 0.8769\n",
      "999/999 [==============================] - 0s 305us/step\n",
      "[0.30298184762308905, 0.8708708683649699]\n"
     ]
    }
   ],
   "source": [
    "model = Sequential()\n",
    "model.add(Dense(64, activation='relu', input_dim=561))\n",
    "model.add(Dropout(0.5))\n",
    "model.add(Dense(64, activation='relu'))\n",
    "model.add(Dropout(0.5))\n",
    "model.add(Dense(6, activation='softmax'))\n",
    "\n",
    "sgd = SGD(lr=0.01, decay=1e-6, momentum=0.9, nesterov=True)\n",
    "model.compile(loss='categorical_crossentropy',optimizer=sgd,metrics=['accuracy'])\n",
    "model.fit(train_data, train_labelss,nb_epoch=30,batch_size=128)\n",
    "score = model.evaluate(test_data, test_labelss, batch_size=128)\n",
    "print(score)"
   ]
  },
  {
   "cell_type": "code",
   "execution_count": 6,
   "metadata": {},
   "outputs": [
    {
     "name": "stderr",
     "output_type": "stream",
     "text": [
      "C:\\Users\\Sebastian\\Anaconda3\\lib\\site-packages\\ipykernel_launcher.py:2: UserWarning: The `nb_epoch` argument in `fit` has been renamed `epochs`.\n",
      "  \n"
     ]
    },
    {
     "name": "stdout",
     "output_type": "stream",
     "text": [
      "Epoch 1/30\n",
      "999/999 [==============================] - 1s 1ms/step - loss: 0.3455 - acc: 0.8388\n",
      "Epoch 2/30\n",
      "999/999 [==============================] - 0s 57us/step - loss: 0.3287 - acc: 0.8539\n",
      "Epoch 3/30\n",
      "999/999 [==============================] - 0s 57us/step - loss: 0.3149 - acc: 0.8809\n",
      "Epoch 4/30\n",
      "999/999 [==============================] - 0s 57us/step - loss: 0.2902 - acc: 0.8579\n",
      "Epoch 5/30\n",
      "999/999 [==============================] - 0s 58us/step - loss: 0.2899 - acc: 0.8909\n",
      "Epoch 6/30\n",
      "999/999 [==============================] - 0s 58us/step - loss: 0.3038 - acc: 0.8619\n",
      "Epoch 7/30\n",
      "999/999 [==============================] - 0s 58us/step - loss: 0.2835 - acc: 0.8919\n",
      "Epoch 8/30\n",
      "999/999 [==============================] - 0s 56us/step - loss: 0.2498 - acc: 0.9049\n",
      "Epoch 9/30\n",
      "999/999 [==============================] - 0s 57us/step - loss: 0.2551 - acc: 0.8999\n",
      "Epoch 10/30\n",
      "999/999 [==============================] - 0s 58us/step - loss: 0.2424 - acc: 0.9159\n",
      "Epoch 11/30\n",
      "999/999 [==============================] - 0s 58us/step - loss: 0.2380 - acc: 0.9099\n",
      "Epoch 12/30\n",
      "999/999 [==============================] - 0s 57us/step - loss: 0.2302 - acc: 0.9119\n",
      "Epoch 13/30\n",
      "999/999 [==============================] - 0s 60us/step - loss: 0.2005 - acc: 0.9219\n",
      "Epoch 14/30\n",
      "999/999 [==============================] - 0s 63us/step - loss: 0.2191 - acc: 0.9049\n",
      "Epoch 15/30\n",
      "999/999 [==============================] - 0s 60us/step - loss: 0.2094 - acc: 0.9199\n",
      "Epoch 16/30\n",
      "999/999 [==============================] - 0s 58us/step - loss: 0.1964 - acc: 0.9239\n",
      "Epoch 17/30\n",
      "999/999 [==============================] - 0s 59us/step - loss: 0.2121 - acc: 0.9139\n",
      "Epoch 18/30\n",
      "999/999 [==============================] - 0s 57us/step - loss: 0.1990 - acc: 0.9169\n",
      "Epoch 19/30\n",
      "999/999 [==============================] - 0s 59us/step - loss: 0.1976 - acc: 0.9139\n",
      "Epoch 20/30\n",
      "999/999 [==============================] - 0s 59us/step - loss: 0.1708 - acc: 0.9429\n",
      "Epoch 21/30\n",
      "999/999 [==============================] - 0s 58us/step - loss: 0.1794 - acc: 0.9229\n",
      "Epoch 22/30\n",
      "999/999 [==============================] - 0s 62us/step - loss: 0.1930 - acc: 0.9199\n",
      "Epoch 23/30\n",
      "999/999 [==============================] - 0s 62us/step - loss: 0.1719 - acc: 0.9379\n",
      "Epoch 24/30\n",
      "999/999 [==============================] - 0s 62us/step - loss: 0.1763 - acc: 0.9299\n",
      "Epoch 25/30\n",
      "999/999 [==============================] - 0s 63us/step - loss: 0.1755 - acc: 0.9289\n",
      "Epoch 26/30\n",
      "999/999 [==============================] - 0s 62us/step - loss: 0.1658 - acc: 0.9289\n",
      "Epoch 27/30\n",
      "999/999 [==============================] - 0s 59us/step - loss: 0.1395 - acc: 0.9449\n",
      "Epoch 28/30\n",
      "999/999 [==============================] - 0s 61us/step - loss: 0.1381 - acc: 0.9359\n",
      "Epoch 29/30\n",
      "999/999 [==============================] - 0s 63us/step - loss: 0.1327 - acc: 0.9489\n",
      "Epoch 30/30\n",
      "999/999 [==============================] - 0s 61us/step - loss: 0.1368 - acc: 0.9510\n",
      "999/999 [==============================] - 0s 343us/step\n",
      "[0.33586017829221526, 0.8728728751401166]\n"
     ]
    }
   ],
   "source": [
    "model.compile(loss='categorical_crossentropy',optimizer='adam',metrics=['accuracy'])\n",
    "model.fit(train_data, train_labelss,nb_epoch=30,batch_size=128)\n",
    "score = model.evaluate(test_data, test_labelss, batch_size=128)\n",
    "print(score)"
   ]
  },
  {
   "cell_type": "code",
   "execution_count": 7,
   "metadata": {},
   "outputs": [],
   "source": [
    "trainData  = train.drop('Activity' , axis=1).values\n",
    "trainLabel = train.Activity.values\n",
    "\n",
    "testData  = test.drop('Activity' , axis=1).values\n",
    "testLabel = test.Activity.values\n",
    "\n",
    "encoder = LabelEncoder()"
   ]
  },
  {
   "cell_type": "code",
   "execution_count": 8,
   "metadata": {},
   "outputs": [],
   "source": [
    "# encoding test labels \n",
    "encoder.fit(testLabel)\n",
    "testLabelEncoder = encoder.transform(testLabel)\n",
    "\n",
    "# encoding train labels \n",
    "encoder.fit(trainLabel)\n",
    "trainLabelEncoder = encoder.transform(trainLabel)"
   ]
  },
  {
   "cell_type": "code",
   "execution_count": 9,
   "metadata": {},
   "outputs": [
    {
     "name": "stdout",
     "output_type": "stream",
     "text": [
      "K-Nearest Neighbors Accuracy: 0.76476\n"
     ]
    }
   ],
   "source": [
    "##### K-Nearest Neighbors ######\n",
    "clf = KNeighborsClassifier(n_neighbors=24)\n",
    "\n",
    "knnModel = clf.fit(trainData , trainLabelEncoder)\n",
    "y_te_pred = clf.predict(testData)\n",
    "\n",
    "acc = accuracy_score(testLabelEncoder, y_te_pred)\n",
    "print(\"K-Nearest Neighbors Accuracy: %.5f\" % (acc))"
   ]
  },
  {
   "cell_type": "code",
   "execution_count": null,
   "metadata": {},
   "outputs": [],
   "source": []
  }
 ],
 "metadata": {
  "kernelspec": {
   "display_name": "Python 3",
   "language": "python",
   "name": "python3"
  },
  "language_info": {
   "codemirror_mode": {
    "name": "ipython",
    "version": 3
   },
   "file_extension": ".py",
   "mimetype": "text/x-python",
   "name": "python",
   "nbconvert_exporter": "python",
   "pygments_lexer": "ipython3",
   "version": "3.7.0"
  }
 },
 "nbformat": 4,
 "nbformat_minor": 2
}
